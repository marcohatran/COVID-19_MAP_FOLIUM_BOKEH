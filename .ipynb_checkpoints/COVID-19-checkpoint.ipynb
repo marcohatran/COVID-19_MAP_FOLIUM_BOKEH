{
 "cells": [
  {
   "cell_type": "code",
   "execution_count": 1,
   "metadata": {},
   "outputs": [],
   "source": [
    "#%% Import library\n",
    "import pandas as pd\n",
    "import numpy as np\n",
    "import matplotlib.pyplot as plt\n",
    "import bokeh\n",
    "import folium"
   ]
  },
  {
   "cell_type": "code",
   "execution_count": 2,
   "metadata": {},
   "outputs": [],
   "source": [
    "def get_data(data_name):\n",
    "    url = 'https://raw.githubusercontent.com/CSSEGISandData/COVID-19/master/csse_covid_19_data/csse_covid_19_time_series/time_series_19-covid-{data_name}.csv'.format(data_name = data_name)\n",
    "    # Get data to dataframe\n",
    "    data = pd.read_csv(url)\n",
    "    # Reshape data frame\n",
    "    data = pd.melt(data, id_vars= data.columns[:4], value_vars= data.columns[5:data.shape[1]], var_name= 'Day', value_name= data_name)\n",
    "    data[data_name].astype('int64')\n",
    "    return data"
   ]
  },
  {
   "cell_type": "code",
   "execution_count": 3,
   "metadata": {},
   "outputs": [],
   "source": [
    "#%% Get data\n",
    "confirmed = get_data('Confirmed')\n",
    "recovered = get_data('Recovered')\n",
    "deaths = get_data('Deaths')"
   ]
  },
  {
   "cell_type": "code",
   "execution_count": 4,
   "metadata": {},
   "outputs": [],
   "source": [
    "#%% Merge confirmed, recovered and deaths\n",
    "key = ['Province/State', 'Country/Region', 'Lat', 'Long', 'Day']\n",
    "data = confirmed\n",
    "data = data.merge(recovered, on= key, how= 'inner')\n",
    "data = data.merge(deaths, on= key, how= 'inner')\n",
    "data['Day'] = pd.to_datetime(data['Day'])\n",
    "data = data[data.Confirmed != 0]\n",
    "del confirmed, deaths, recovered, key\n",
    "\n",
    "data['Province/State_Country/Region'] = data['Province/State'].fillna('')\n",
    "data['Province/State_Country/Region'] = data['Province/State_Country/Region'].apply(lambda x: x if x == '' else x + ' - ')\n",
    "data['Province/State_Country/Region'] = data['Province/State_Country/Region'] + data['Country/Region']"
   ]
  },
  {
   "cell_type": "code",
   "execution_count": 5,
   "metadata": {},
   "outputs": [
    {
     "name": "stderr",
     "output_type": "stream",
     "text": [
      "/usr/local/lib/python3.7/site-packages/ipykernel_launcher.py:4: SettingWithCopyWarning:\n",
      "\n",
      "\n",
      "A value is trying to be set on a copy of a slice from a DataFrame\n",
      "\n",
      "See the caveats in the documentation: http://pandas.pydata.org/pandas-docs/stable/indexing.html#indexing-view-versus-copy\n",
      "\n"
     ]
    }
   ],
   "source": [
    "#%% Extract current update data\n",
    "data_current_update = data[data.Day == data.Day.max()]\n",
    "data_current_update.sort_values(by= 'Confirmed', ascending= True, inplace= True)"
   ]
  },
  {
   "cell_type": "code",
   "execution_count": 6,
   "metadata": {},
   "outputs": [],
   "source": [
    "# Create Word map\n",
    "lat, lon = 40, 5\n",
    "zoom = 1.5\n",
    "map = folium.Map(location=[lat, lon], zoom_start= zoom,\n",
    "                 control_scale=True,\n",
    "                 tiles= 'cartodbdark_matter')"
   ]
  },
  {
   "cell_type": "code",
   "execution_count": 7,
   "metadata": {},
   "outputs": [
    {
     "data": {
      "text/plain": [
       "<folium.plugins.mouse_position.MousePosition at 0x10ec7ab50>"
      ]
     },
     "execution_count": 7,
     "metadata": {},
     "output_type": "execute_result"
    }
   ],
   "source": [
    "update_day = data.Day.max().strftime('%B %d %Y')\n",
    "prefix = 'Data source: JHU CSSE. Update day: {update_day}.<br>Coordinates:'.format(update_day= update_day)\n",
    "# Add mouse position\n",
    "from folium.plugins import MousePosition\n",
    "formatter = \"function(num) {return L.Util.formatNum(num, 3) + '&#176';};\"\n",
    "MousePosition(\n",
    "    position='topright',\n",
    "    separator=' | ',\n",
    "    empty_string='',\n",
    "    lng_first=True,\n",
    "    num_digits=20,\n",
    "    prefix= prefix,\n",
    "    lat_formatter=formatter,\n",
    "    lng_formatter=formatter,\n",
    ").add_to(map)"
   ]
  },
  {
   "cell_type": "code",
   "execution_count": 8,
   "metadata": {},
   "outputs": [],
   "source": [
    "from bokeh.plotting import figure\n",
    "from bokeh.models.formatters import DatetimeTickFormatter\n",
    "from bokeh.models.tools import HoverTool\n",
    "from bokeh.models import Legend\n",
    "from bokeh.embed import file_html\n",
    "from bokeh.resources import INLINE\n",
    "\n",
    "def create_plot(plot_table):\n",
    "    plot_table['Day_str'] = plot_table['Day'].dt.strftime('%B %d %Y')\n",
    "    plot_table['Existing'] = plot_table['Confirmed'] - plot_table['Recovered'] - plot_table['Deaths']\n",
    "    plot_table['Confirmed_plot'] = plot_table['Confirmed'] / 2\n",
    "\n",
    "    colors = [\"#FF5733\", \"#047d38\", \"#c2b804\"]\n",
    "\n",
    "    tools = \"crosshair,pan,reset, save\"\n",
    "    \n",
    "    tooltip = '''\n",
    "                <p style=\"text-align: center;\"><span style=\"color: #0000ff;\"><strong>@Day_str</strong></span></p>\n",
    "                <ul>\n",
    "                <li style=\"color: #c2b804;\">Deaths: @Deaths</li>\n",
    "                <li style=\"color: #047d38;\">Recovered: @Recovered</li>\n",
    "                <li style=\"color: #ff5733;\">Existing: @Existing</li>\n",
    "                </ul>\n",
    "            '''\n",
    "\n",
    "    hover = HoverTool(tooltips=tooltip, mode='vline')\n",
    "    title = 'Coronavirus Cases in {} Over Time'.format(plot_table['Province/State_Country/Region'].iloc[0])\n",
    "\n",
    "    p = figure(tools = [hover, tools], toolbar_location= None,\n",
    "               x_axis_type= \"datetime\", plot_width=600, plot_height=200, title= title)\n",
    "\n",
    "    names = ['Existing', 'Recovered', 'Deaths']\n",
    "    v= p.varea_stack(stackers= names, x='Day', color= colors, source= plot_table, alpha=0.7)\n",
    "    legend = Legend(items=[\n",
    "        (\"Deaths\",   [v[2]]),\n",
    "        (\"Recovered\",   [v[1]]),\n",
    "        (\"Existing\",   [v[0]]),],\n",
    "        location=(0, 0))\n",
    "\n",
    "    p.add_layout(legend, 'right')\n",
    "\n",
    "    p.circle(y= 'Confirmed_plot', x= 'Day', size=8, source= plot_table,\n",
    "                  fill_color=None, hover_fill_color=None,\n",
    "                  fill_alpha=None, hover_alpha=None,\n",
    "                  line_color=None, hover_line_color=None)\n",
    "\n",
    "    p.xaxis.formatter=DatetimeTickFormatter(days=[\"%d/%m\"])\n",
    "    from math import pi\n",
    "    p.xaxis.major_label_orientation = pi/3\n",
    "\n",
    "    p.y_range.start = 0\n",
    "    p.x_range.range_padding = 0.1\n",
    "    p.xgrid.grid_line_color = None\n",
    "    p.axis.minor_tick_line_color = None\n",
    "    p.outline_line_color = None\n",
    "    \n",
    "    html = file_html(p, INLINE, \"my plot\")\n",
    "    return html"
   ]
  },
  {
   "cell_type": "code",
   "execution_count": 9,
   "metadata": {},
   "outputs": [
    {
     "name": "stderr",
     "output_type": "stream",
     "text": [
      "/usr/local/lib/python3.7/site-packages/ipykernel_launcher.py:9: SettingWithCopyWarning:\n",
      "\n",
      "\n",
      "A value is trying to be set on a copy of a slice from a DataFrame.\n",
      "Try using .loc[row_indexer,col_indexer] = value instead\n",
      "\n",
      "See the caveats in the documentation: http://pandas.pydata.org/pandas-docs/stable/indexing.html#indexing-view-versus-copy\n",
      "\n",
      "/usr/local/lib/python3.7/site-packages/ipykernel_launcher.py:10: SettingWithCopyWarning:\n",
      "\n",
      "\n",
      "A value is trying to be set on a copy of a slice from a DataFrame.\n",
      "Try using .loc[row_indexer,col_indexer] = value instead\n",
      "\n",
      "See the caveats in the documentation: http://pandas.pydata.org/pandas-docs/stable/indexing.html#indexing-view-versus-copy\n",
      "\n",
      "/usr/local/lib/python3.7/site-packages/ipykernel_launcher.py:11: SettingWithCopyWarning:\n",
      "\n",
      "\n",
      "A value is trying to be set on a copy of a slice from a DataFrame.\n",
      "Try using .loc[row_indexer,col_indexer] = value instead\n",
      "\n",
      "See the caveats in the documentation: http://pandas.pydata.org/pandas-docs/stable/indexing.html#indexing-view-versus-copy\n",
      "\n"
     ]
    }
   ],
   "source": [
    "#%% Add Crircle\n",
    "from folium import IFrame\n",
    "for i in range(data_current_update.shape[0]):\n",
    "    lat = data_current_update.Lat.iloc[i]\n",
    "    long = data_current_update.Long.iloc[i]\n",
    "    radius = 3 * data_current_update.Confirmed.iloc[i] ** 0.22\n",
    "    \n",
    "    # Format toolstip\n",
    "    tooltip = '''\n",
    "                <p style=\"text-align: center;\"><strong>{state}</strong></p>\n",
    "                <p style=\"text-align: left;\">{confirmed}&nbsp;cases confirmed:</p>\n",
    "                <ul>\n",
    "                <li style=\"color: #c2b804 ;\">Deaths: {deaths}</li>\n",
    "                <li style=\"color: #047d38;\">Recovered: {recovered}</li>\n",
    "                <li style=\"color: #ff5733;\">Existing: {existing}</li>\n",
    "                </ul>\n",
    "            '''\n",
    "    \n",
    "    if pd.isna(data_current_update['Province/State'].iloc[i]):\n",
    "        state = data_current_update['Country/Region'].iloc[i]\n",
    "    else:\n",
    "        state = data_current_update['Province/State'].iloc[i] + ' - ' + data_current_update['Country/Region'].iloc[i]\n",
    "    \n",
    "    confirmed = data_current_update['Confirmed'].iloc[i]\n",
    "    recovered = data_current_update['Recovered'].iloc[i]\n",
    "    deaths = data_current_update['Deaths'].iloc[i]\n",
    "    existing = confirmed - recovered - deaths\n",
    "    \n",
    "    tooltip = tooltip.format(state= state.upper(), confirmed= confirmed,\n",
    "                             recovered= recovered, deaths= deaths,\n",
    "                             existing= existing)\n",
    "    \n",
    "    # Create pop-up\n",
    "    plot_table = data.loc[data['Province/State_Country/Region'] == data_current_update['Province/State_Country/Region'].iloc[i]]\n",
    "\n",
    "    html = create_plot(plot_table)\n",
    "    iframe = IFrame(html=html, width=500, height=200)\n",
    "    popup = folium.Popup(iframe, max_width=600, max_height= 250)\n",
    "\n",
    "    # Create circle\n",
    "    circle = folium.CircleMarker(\n",
    "          location=[lat,long],\n",
    "          tooltip = tooltip,\n",
    "          popup= popup,\n",
    "          radius= radius,\n",
    "          color= '#F7F7F7',\n",
    "          weight= 0.2,\n",
    "          fill= True,\n",
    "          fill_color= '#ff0000',\n",
    "          fillOpacity = 1)\n",
    "    circle.add_to(map)"
   ]
  },
  {
   "cell_type": "code",
   "execution_count": 10,
   "metadata": {},
   "outputs": [
    {
     "data": {
      "text/plain": [
       "<folium.plugins.fullscreen.Fullscreen at 0x101e27e50>"
      ]
     },
     "execution_count": 10,
     "metadata": {},
     "output_type": "execute_result"
    }
   ],
   "source": [
    "#%% Add Full screen plug-in\n",
    "from folium import plugins\n",
    "full_screen = plugins.Fullscreen(\n",
    "    position='topright',\n",
    "    title='Expand me',\n",
    "    title_cancel='Exit me',\n",
    "    force_separate_button=True)\n",
    "full_screen.add_to(map)"
   ]
  },
  {
   "cell_type": "code",
   "execution_count": 11,
   "metadata": {},
   "outputs": [
    {
     "data": {
      "text/plain": [
       "<folium.plugins.minimap.MiniMap at 0x101e27f90>"
      ]
     },
     "execution_count": 11,
     "metadata": {},
     "output_type": "execute_result"
    }
   ],
   "source": [
    "# Add minimap\n",
    "from folium.plugins import MiniMap\n",
    "minimap = MiniMap(tiles= 'cartodbdark_matter', toggle_display=True)\n",
    "minimap.add_to(map)"
   ]
  },
  {
   "cell_type": "code",
   "execution_count": null,
   "metadata": {},
   "outputs": [],
   "source": [
    "map"
   ]
  },
  {
   "cell_type": "code",
   "execution_count": null,
   "metadata": {},
   "outputs": [],
   "source": []
  }
 ],
 "metadata": {
  "kernelspec": {
   "display_name": "Python 3",
   "language": "python",
   "name": "python3"
  },
  "language_info": {
   "codemirror_mode": {
    "name": "ipython",
    "version": 3
   },
   "file_extension": ".py",
   "mimetype": "text/x-python",
   "name": "python",
   "nbconvert_exporter": "python",
   "pygments_lexer": "ipython3",
   "version": "3.7.4"
  }
 },
 "nbformat": 4,
 "nbformat_minor": 2
}
